{
 "cells": [
  {
   "cell_type": "code",
   "execution_count": 7,
   "id": "49b16868",
   "metadata": {},
   "outputs": [
    {
     "name": "stdout",
     "output_type": "stream",
     "text": [
      "List : [4, 5, 2, 9]\n",
      " Square of given numbers are:  [4, 5, 2, 9]\n"
     ]
    },
    {
     "data": {
      "text/plain": [
       "[16, 25, 4, 81]"
      ]
     },
     "execution_count": 7,
     "metadata": {},
     "output_type": "execute_result"
    }
   ],
   "source": [
    "def sqr_num(a):\n",
    "    return a * a \n",
    "num = [ 4, 5, 2, 9]\n",
    "print(\"List :\", num)\n",
    "res = map(sqr_num, num)\n",
    "print(\" Square of given numbers are: \",num)\n",
    "list(res)"
   ]
  },
  {
   "cell_type": "code",
   "execution_count": null,
   "id": "bc065ab7",
   "metadata": {},
   "outputs": [],
   "source": []
  }
 ],
 "metadata": {
  "kernelspec": {
   "display_name": "Python 3 (ipykernel)",
   "language": "python",
   "name": "python3"
  },
  "language_info": {
   "codemirror_mode": {
    "name": "ipython",
    "version": 3
   },
   "file_extension": ".py",
   "mimetype": "text/x-python",
   "name": "python",
   "nbconvert_exporter": "python",
   "pygments_lexer": "ipython3",
   "version": "3.10.0"
  }
 },
 "nbformat": 4,
 "nbformat_minor": 5
}
